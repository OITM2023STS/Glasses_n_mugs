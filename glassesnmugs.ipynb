{
  "cells": [
    {
      "cell_type": "code",
      "execution_count": null,
      "metadata": {
        "id": "49Kuj85lramO"
      },
      "outputs": [],
      "source": [
        "# ha még nem telepítetted a fastbookot: \n",
        "# !pip install fastbook\n",
        "\n",
        "# ha még nem telepítetted a Pillow-t: \n",
        "# !pip install --ignore-installed Pillow==9.3.0\n",
        "\n",
        "#### Ne felejtsd el újraindítani a futtatókörnyezetet, miután lefutott az előző kódrész!\n",
        "\n",
        "# ha még nem tömörítetted ki a képeket, tedd meg, pl:\n",
        "# !unzip test_images.zip\n",
        "\n",
        "from fastbook import *\n",
        "import pathlib\n",
        "\n",
        "plt = platform.system()\n",
        "if plt == 'Linux': \n",
        "    pathlib.WindowsPath = pathlib.PosixPath\n",
        " \n",
        "# Ha még nem dolgoztál Deep Learning megoldásokkal, az alábbiak segíthetnek\n",
        "   \n",
        "learn_inf = load_learner('export.pkl')\n",
        "kepek_eleresi_utvonalai = get_image_files('test_images')\n",
        "test_dl = learn_inf.dls.test_dl(kepek_eleresi_utvonalai)\n",
        "# Magyarázat:\n",
        "# learn_inf : a fastai-ban betanított modellt tartalmazó Learner objektum\n",
        "# kepek_eleresi_utvonalai : a fájlok elérési útvonalainak (Path) listája\n",
        "# test_dl : a tesztadatokat tartalmazó DataLoader objektum\n",
        "\n",
        "# Tanács: használd a fastai Learner objektumának get_preds metódusát a megfelelő paraméterekkel!\n",
        "\n",
        "\n",
        "\n",
        "\n",
        "# =======  Your solution  ======"
      ]
    }
  ],
  "metadata": {
    "colab": {
      "provenance": []
    },
    "kernelspec": {
      "display_name": "Python 3",
      "name": "python3"
    },
    "language_info": {
      "codemirror_mode": {
        "name": "ipython",
        "version": 3
      },
      "file_extension": ".py",
      "mimetype": "text/x-python",
      "name": "python",
      "nbconvert_exporter": "python",
      "pygments_lexer": "ipython3",
      "version": "3.10.11"
    }
  },
  "nbformat": 4,
  "nbformat_minor": 0
}
